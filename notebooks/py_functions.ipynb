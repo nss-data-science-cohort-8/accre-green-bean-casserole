{
 "cells": [
  {
   "cell_type": "code",
   "execution_count": 1,
   "metadata": {},
   "outputs": [
    {
     "name": "stdout",
     "output_type": "stream",
     "text": [
      "Current working directory is c:\\Users\\blond\\Documents\\NssProjects\\accre-green-bean-casserole\n"
     ]
    }
   ],
   "source": [
    "import os\n",
    "os.chdir('..')\n",
    "print(f'Current working directory is {os.getcwd()}')"
   ]
  },
  {
   "cell_type": "code",
   "execution_count": 2,
   "metadata": {},
   "outputs": [],
   "source": [
    "from scripts.get import log_to_df, df_to_datelist"
   ]
  },
  {
   "cell_type": "code",
   "execution_count": null,
   "metadata": {},
   "outputs": [],
   "source": [
    "ce5 = log_to_df('data/slurm_wrapper_ce5.log')\n",
    "ce6 = log_to_df('data/slurm_wrapper_ce6.log')\n"
   ]
  },
  {
   "cell_type": "code",
   "execution_count": 4,
   "metadata": {},
   "outputs": [],
   "source": [
    "ce6_timestamps = df_to_datelist(ce6)\n",
    "ce5_timestamps = df_to_datelist(ce5)"
   ]
  },
  {
   "cell_type": "code",
   "execution_count": 5,
   "metadata": {},
   "outputs": [
    {
     "data": {
      "text/html": [
       "<div>\n",
       "<style scoped>\n",
       "    .dataframe tbody tr th:only-of-type {\n",
       "        vertical-align: middle;\n",
       "    }\n",
       "\n",
       "    .dataframe tbody tr th {\n",
       "        vertical-align: top;\n",
       "    }\n",
       "\n",
       "    .dataframe thead th {\n",
       "        text-align: right;\n",
       "    }\n",
       "</style>\n",
       "<table border=\"1\" class=\"dataframe\">\n",
       "  <thead>\n",
       "    <tr style=\"text-align: right;\">\n",
       "      <th></th>\n",
       "      <th>0</th>\n",
       "      <th>1</th>\n",
       "      <th>2</th>\n",
       "      <th>3</th>\n",
       "      <th>4</th>\n",
       "      <th>5</th>\n",
       "    </tr>\n",
       "  </thead>\n",
       "  <tbody>\n",
       "    <tr>\n",
       "      <th>0</th>\n",
       "      <td>2020-10-16 08:15:39.278699</td>\n",
       "      <td>user 0</td>\n",
       "      <td>retry 0</td>\n",
       "      <td>time 0.07347559928894043</td>\n",
       "      <td>returncode 0</td>\n",
       "      <td>command ['/usr/bin/sacct', '-u', 'appelte1', '...</td>\n",
       "    </tr>\n",
       "    <tr>\n",
       "      <th>1</th>\n",
       "      <td>2020-10-16 08:18:08.313309</td>\n",
       "      <td>user 0</td>\n",
       "      <td>retry 0</td>\n",
       "      <td>time 0.18363237380981445</td>\n",
       "      <td>returncode 0</td>\n",
       "      <td>command ['/usr/bin/sacct', '-u', 'appelte1', '...</td>\n",
       "    </tr>\n",
       "    <tr>\n",
       "      <th>2</th>\n",
       "      <td>2020-10-16 08:22:48.128689</td>\n",
       "      <td>user 0</td>\n",
       "      <td>retry 0</td>\n",
       "      <td>time 0.07547116279602051</td>\n",
       "      <td>returncode 0</td>\n",
       "      <td>command ['/usr/bin/sacct', '-u', 'appelte1', '...</td>\n",
       "    </tr>\n",
       "    <tr>\n",
       "      <th>3</th>\n",
       "      <td>2020-10-16 08:25:13.257408</td>\n",
       "      <td>user 0</td>\n",
       "      <td>retry 0</td>\n",
       "      <td>time 0.09484362602233887</td>\n",
       "      <td>returncode 0</td>\n",
       "      <td>command ['/usr/bin/sacct', '-u', 'appelte1', '...</td>\n",
       "    </tr>\n",
       "    <tr>\n",
       "      <th>4</th>\n",
       "      <td>2020-10-16 08:31:01.460723</td>\n",
       "      <td>user 0</td>\n",
       "      <td>retry 0</td>\n",
       "      <td>time 0.07498788833618164</td>\n",
       "      <td>returncode 0</td>\n",
       "      <td>command ['/usr/bin/sacct', '-u', 'appelte1', '...</td>\n",
       "    </tr>\n",
       "  </tbody>\n",
       "</table>\n",
       "</div>"
      ],
      "text/plain": [
       "                            0       1        2                         3  \\\n",
       "0  2020-10-16 08:15:39.278699  user 0  retry 0  time 0.07347559928894043   \n",
       "1  2020-10-16 08:18:08.313309  user 0  retry 0  time 0.18363237380981445   \n",
       "2  2020-10-16 08:22:48.128689  user 0  retry 0  time 0.07547116279602051   \n",
       "3  2020-10-16 08:25:13.257408  user 0  retry 0  time 0.09484362602233887   \n",
       "4  2020-10-16 08:31:01.460723  user 0  retry 0  time 0.07498788833618164   \n",
       "\n",
       "              4                                                  5  \n",
       "0  returncode 0  command ['/usr/bin/sacct', '-u', 'appelte1', '...  \n",
       "1  returncode 0  command ['/usr/bin/sacct', '-u', 'appelte1', '...  \n",
       "2  returncode 0  command ['/usr/bin/sacct', '-u', 'appelte1', '...  \n",
       "3  returncode 0  command ['/usr/bin/sacct', '-u', 'appelte1', '...  \n",
       "4  returncode 0  command ['/usr/bin/sacct', '-u', 'appelte1', '...  "
      ]
     },
     "execution_count": 5,
     "metadata": {},
     "output_type": "execute_result"
    }
   ],
   "source": [
    "ce5.head()"
   ]
  },
  {
   "cell_type": "code",
   "execution_count": 7,
   "metadata": {},
   "outputs": [
    {
     "data": {
      "text/plain": [
       "'2020-10-16 08:15:39.278699'"
      ]
     },
     "execution_count": 7,
     "metadata": {},
     "output_type": "execute_result"
    }
   ],
   "source": [
    "ce5[0].min()\n"
   ]
  },
  {
   "cell_type": "code",
   "execution_count": 8,
   "metadata": {},
   "outputs": [
    {
     "data": {
      "text/plain": [
       "'2020-10-16 10:37:44.163454'"
      ]
     },
     "execution_count": 8,
     "metadata": {},
     "output_type": "execute_result"
    }
   ],
   "source": [
    "ce6[0].min()"
   ]
  },
  {
   "cell_type": "code",
   "execution_count": 6,
   "metadata": {},
   "outputs": [
    {
     "data": {
      "text/plain": [
       "'2021-10-07 22:00:20.919558'"
      ]
     },
     "execution_count": 6,
     "metadata": {},
     "output_type": "execute_result"
    }
   ],
   "source": [
    "ce6[0].max()"
   ]
  },
  {
   "cell_type": "code",
   "execution_count": 10,
   "metadata": {},
   "outputs": [
    {
     "data": {
      "text/plain": [
       "'2021-10-07 21:59:17.693458'"
      ]
     },
     "execution_count": 10,
     "metadata": {},
     "output_type": "execute_result"
    }
   ],
   "source": [
    "ce5[0].max()"
   ]
  }
 ],
 "metadata": {
  "kernelspec": {
   "display_name": "base",
   "language": "python",
   "name": "python3"
  },
  "language_info": {
   "codemirror_mode": {
    "name": "ipython",
    "version": 3
   },
   "file_extension": ".py",
   "mimetype": "text/x-python",
   "name": "python",
   "nbconvert_exporter": "python",
   "pygments_lexer": "ipython3",
   "version": "3.12.4"
  }
 },
 "nbformat": 4,
 "nbformat_minor": 2
}
