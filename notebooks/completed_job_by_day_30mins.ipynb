{
 "cells": [
  {
   "cell_type": "code",
   "execution_count": null,
   "metadata": {},
   "outputs": [
    {
     "name": "stdout",
     "output_type": "stream",
     "text": [
      "Current working directory is c:\\Users\\blond\\Documents\\NssProjects\\accre-green-bean-casserole\n"
     ]
    }
   ],
   "source": [
    "import os\n",
    "os.chdir('..')\n",
    "print(f'Current working directory is {os.getcwd()}')"
   ]
  },
  {
   "cell_type": "code",
   "execution_count": 2,
   "metadata": {},
   "outputs": [],
   "source": [
    "import pandas as pd\n",
    "from scripts.get import log_to_df, df_to_datelist\n",
    "from collections import Counter"
   ]
  },
  {
   "cell_type": "code",
   "execution_count": 3,
   "metadata": {},
   "outputs": [],
   "source": [
    "jobs = pd.read_csv(\"data/fullsample.csv\")\n"
   ]
  },
  {
   "cell_type": "code",
   "execution_count": 4,
   "metadata": {},
   "outputs": [
    {
     "name": "stderr",
     "output_type": "stream",
     "text": [
      "C:\\Users\\blond\\AppData\\Local\\Temp\\ipykernel_1048\\1972129250.py:5: UserWarning: Could not infer format, so each element will be parsed individually, falling back to `dateutil`. To ensure parsing is consistent and as-expected, please specify a format.\n",
      "  jobs['END'] = pd.to_datetime(\n"
     ]
    }
   ],
   "source": [
    "jobs['BEGIN'] = pd.to_datetime(\n",
    "    jobs['BEGIN'], \n",
    "    errors='coerce'\n",
    ")\n",
    "jobs['END'] = pd.to_datetime(\n",
    "    jobs['END'], \n",
    "    errors='coerce'\n",
    ")"
   ]
  },
  {
   "cell_type": "code",
   "execution_count": null,
   "metadata": {},
   "outputs": [],
   "source": [
    "# had to drop the na to get the drop to work\n",
    "jobs = jobs.dropna(subset = 'END')"
   ]
  },
  {
   "cell_type": "code",
   "execution_count": 6,
   "metadata": {},
   "outputs": [],
   "source": [
    "# assigning min and max timestamps to remove from the jobs dataframe.\n",
    "min_timestamp = pd.to_datetime('2020-10-16 10:37:44.163454')\n",
    "max_timestamp = pd.to_datetime('2021-10-07 20:41:11')"
   ]
  },
  {
   "cell_type": "code",
   "execution_count": 7,
   "metadata": {},
   "outputs": [],
   "source": [
    "jobs = jobs.loc[jobs['END'] >=  min_timestamp]\n",
    "jobs = jobs.loc[jobs['END'] <= max_timestamp]"
   ]
  },
  {
   "cell_type": "code",
   "execution_count": 8,
   "metadata": {},
   "outputs": [
    {
     "data": {
      "text/plain": [
       "Timestamp('2020-10-16 10:37:45')"
      ]
     },
     "execution_count": 8,
     "metadata": {},
     "output_type": "execute_result"
    }
   ],
   "source": [
    "jobs['END'].min()"
   ]
  },
  {
   "cell_type": "code",
   "execution_count": 9,
   "metadata": {},
   "outputs": [
    {
     "data": {
      "text/plain": [
       "Timestamp('2021-10-07 20:41:11')"
      ]
     },
     "execution_count": 9,
     "metadata": {},
     "output_type": "execute_result"
    }
   ],
   "source": [
    "jobs['END'].max()"
   ]
  },
  {
   "cell_type": "code",
   "execution_count": 10,
   "metadata": {},
   "outputs": [],
   "source": [
    "ce5 = log_to_df('data/slurm_wrapper_ce5.log')\n",
    "ce6 = log_to_df('data/slurm_wrapper_ce6.log')\n",
    "error_list = df_to_datelist(ce6) + df_to_datelist(ce5)"
   ]
  },
  {
   "cell_type": "code",
   "execution_count": 14,
   "metadata": {},
   "outputs": [
    {
     "data": {
      "text/plain": [
       "3296"
      ]
     },
     "execution_count": 14,
     "metadata": {},
     "output_type": "execute_result"
    }
   ],
   "source": [
    "len(error_list)"
   ]
  },
  {
   "cell_type": "code",
   "execution_count": 81,
   "metadata": {},
   "outputs": [],
   "source": [
    "# changing way doing the column for day/hour, then added ones for every 15, 30, 45 mins this is not doing what I wanted, I wanted rounded numbers, and this was not in the right intervals\n",
    "# jobs['END'].dt.to_period('H')\n",
    "# jobs['END'].dt.to_period('15T')\n",
    "# jobs['END'].dt.to_period('30T')\n",
    "# jobs['END'].dt.to_period('45T')\n",
    "# df['date'].dt.to_period('H')\n",
    "\n",
    "\n",
    "# this worked better but would need to change for each interval, and then also figure out how to match this to the errors list\n",
    "# Group by 15-minute intervals\n",
    "jobs_15min = jobs.set_index('END').groupby(pd.Grouper(freq='15min')).size().reset_index(name = 'JobEndCount')\n",
    "jobs_30min = jobs.set_index('END').groupby(pd.Grouper(freq='30min')).size().reset_index(name = 'JobEndCount')\n",
    "jobs_45min = jobs.set_index('END').groupby(pd.Grouper(freq='45min')).size().reset_index(name = 'JobEndCount')\n",
    "jobs_60min = jobs.set_index('END').groupby(pd.Grouper(freq='60min')).size().reset_index(name = 'JobEndCount')\n",
    "\n",
    "\n"
   ]
  },
  {
   "cell_type": "code",
   "execution_count": 85,
   "metadata": {},
   "outputs": [],
   "source": [
    "jobs_15min = jobs_15min.rename(columns={'END': 'end_group'})\n",
    "jobs_30min = jobs_30min.rename(columns={'END': 'end_group'})\n",
    "jobs_45min = jobs_45min.rename(columns={'END': 'end_group'})\n",
    "jobs_60min = jobs_60min.rename(columns={'END': 'end_group'})"
   ]
  },
  {
   "cell_type": "code",
   "execution_count": 86,
   "metadata": {},
   "outputs": [
    {
     "data": {
      "text/html": [
       "<div>\n",
       "<style scoped>\n",
       "    .dataframe tbody tr th:only-of-type {\n",
       "        vertical-align: middle;\n",
       "    }\n",
       "\n",
       "    .dataframe tbody tr th {\n",
       "        vertical-align: top;\n",
       "    }\n",
       "\n",
       "    .dataframe thead th {\n",
       "        text-align: right;\n",
       "    }\n",
       "</style>\n",
       "<table border=\"1\" class=\"dataframe\">\n",
       "  <thead>\n",
       "    <tr style=\"text-align: right;\">\n",
       "      <th></th>\n",
       "      <th>end_group</th>\n",
       "      <th>JobEndCount</th>\n",
       "    </tr>\n",
       "  </thead>\n",
       "  <tbody>\n",
       "    <tr>\n",
       "      <th>0</th>\n",
       "      <td>2020-10-16 10:00:00</td>\n",
       "      <td>181</td>\n",
       "    </tr>\n",
       "    <tr>\n",
       "      <th>1</th>\n",
       "      <td>2020-10-16 11:00:00</td>\n",
       "      <td>1064</td>\n",
       "    </tr>\n",
       "    <tr>\n",
       "      <th>2</th>\n",
       "      <td>2020-10-16 12:00:00</td>\n",
       "      <td>824</td>\n",
       "    </tr>\n",
       "    <tr>\n",
       "      <th>3</th>\n",
       "      <td>2020-10-16 13:00:00</td>\n",
       "      <td>605</td>\n",
       "    </tr>\n",
       "    <tr>\n",
       "      <th>4</th>\n",
       "      <td>2020-10-16 14:00:00</td>\n",
       "      <td>1071</td>\n",
       "    </tr>\n",
       "  </tbody>\n",
       "</table>\n",
       "</div>"
      ],
      "text/plain": [
       "            end_group  JobEndCount\n",
       "0 2020-10-16 10:00:00          181\n",
       "1 2020-10-16 11:00:00         1064\n",
       "2 2020-10-16 12:00:00          824\n",
       "3 2020-10-16 13:00:00          605\n",
       "4 2020-10-16 14:00:00         1071"
      ]
     },
     "execution_count": 86,
     "metadata": {},
     "output_type": "execute_result"
    }
   ],
   "source": [
    "jobs_60min.head()"
   ]
  },
  {
   "cell_type": "code",
   "execution_count": 72,
   "metadata": {},
   "outputs": [],
   "source": [
    "# made this into a dataframe, going to group like the jobs and count how many errors are in each time grouping \n",
    "error_df = pd.DataFrame({'error_timestamp': error_list})"
   ]
  },
  {
   "cell_type": "code",
   "execution_count": 78,
   "metadata": {},
   "outputs": [],
   "source": [
    "errors_15min = error_df.set_index('error_timestamp').groupby(pd.Grouper(freq='15min')).size().reset_index(name = 'ErrorCount')\n",
    "errors_30min = error_df.set_index('error_timestamp').groupby(pd.Grouper(freq='30min')).size().reset_index(name = 'ErrorCount')\n",
    "errors_45min = error_df.set_index('error_timestamp').groupby(pd.Grouper(freq='45min')).size().reset_index(name = 'ErrorCount')\n",
    "errors_60min = error_df.set_index('error_timestamp').groupby(pd.Grouper(freq='60min')).size().reset_index(name = 'ErrorCount')\n"
   ]
  },
  {
   "cell_type": "code",
   "execution_count": 79,
   "metadata": {},
   "outputs": [],
   "source": [
    "errors_15min = errors_15min.rename(columns={'END': 'end_group'})\n",
    "errors_30min = errors_30min.rename(columns={'END': 'end_group'})\n",
    "errors_45min = errors_45min.rename(columns={'END': 'end_group'})\n",
    "errors_60min = errors_60min.rename(columns={'END': 'end_group'})"
   ]
  },
  {
   "cell_type": "code",
   "execution_count": 82,
   "metadata": {},
   "outputs": [
    {
     "data": {
      "text/html": [
       "<div>\n",
       "<style scoped>\n",
       "    .dataframe tbody tr th:only-of-type {\n",
       "        vertical-align: middle;\n",
       "    }\n",
       "\n",
       "    .dataframe tbody tr th {\n",
       "        vertical-align: top;\n",
       "    }\n",
       "\n",
       "    .dataframe thead th {\n",
       "        text-align: right;\n",
       "    }\n",
       "</style>\n",
       "<table border=\"1\" class=\"dataframe\">\n",
       "  <thead>\n",
       "    <tr style=\"text-align: right;\">\n",
       "      <th></th>\n",
       "      <th>error_timestamp</th>\n",
       "      <th>ErrorCount</th>\n",
       "    </tr>\n",
       "  </thead>\n",
       "  <tbody>\n",
       "    <tr>\n",
       "      <th>0</th>\n",
       "      <td>2020-10-18 06:15:00</td>\n",
       "      <td>1</td>\n",
       "    </tr>\n",
       "    <tr>\n",
       "      <th>1</th>\n",
       "      <td>2020-10-18 06:30:00</td>\n",
       "      <td>1</td>\n",
       "    </tr>\n",
       "    <tr>\n",
       "      <th>2</th>\n",
       "      <td>2020-10-18 06:45:00</td>\n",
       "      <td>2</td>\n",
       "    </tr>\n",
       "    <tr>\n",
       "      <th>3</th>\n",
       "      <td>2020-10-18 07:00:00</td>\n",
       "      <td>0</td>\n",
       "    </tr>\n",
       "    <tr>\n",
       "      <th>4</th>\n",
       "      <td>2020-10-18 07:15:00</td>\n",
       "      <td>0</td>\n",
       "    </tr>\n",
       "  </tbody>\n",
       "</table>\n",
       "</div>"
      ],
      "text/plain": [
       "      error_timestamp  ErrorCount\n",
       "0 2020-10-18 06:15:00           1\n",
       "1 2020-10-18 06:30:00           1\n",
       "2 2020-10-18 06:45:00           2\n",
       "3 2020-10-18 07:00:00           0\n",
       "4 2020-10-18 07:15:00           0"
      ]
     },
     "execution_count": 82,
     "metadata": {},
     "output_type": "execute_result"
    }
   ],
   "source": [
    "errors_15min.head()"
   ]
  },
  {
   "cell_type": "code",
   "execution_count": 95,
   "metadata": {},
   "outputs": [],
   "source": [
    "job_errors_60min = (\n",
    "    pd.merge(\n",
    "        left = jobs_60min,    \n",
    "        right = errors_60min,\n",
    "        left_on = 'end_group',\n",
    "        right_on = 'error_timestamp',\n",
    "        how = 'left')\n",
    "    .drop(columns = 'error_timestamp')\n",
    "    )"
   ]
  },
  {
   "cell_type": "code",
   "execution_count": 97,
   "metadata": {},
   "outputs": [],
   "source": [
    "job_errors_45min = (\n",
    "    pd.merge(\n",
    "        left = jobs_45min,    \n",
    "        right = errors_45min,\n",
    "        left_on = 'end_group',\n",
    "        right_on = 'error_timestamp',\n",
    "        how = 'left')\n",
    "    .drop(columns = 'error_timestamp')\n",
    "    )"
   ]
  },
  {
   "cell_type": "code",
   "execution_count": 98,
   "metadata": {},
   "outputs": [],
   "source": [
    "job_errors_30min = (\n",
    "    pd.merge(\n",
    "        left = jobs_30min,    \n",
    "        right = errors_30min,\n",
    "        left_on = 'end_group',\n",
    "        right_on = 'error_timestamp',\n",
    "        how = 'left')\n",
    "    .drop(columns = 'error_timestamp')\n",
    "    )"
   ]
  },
  {
   "cell_type": "code",
   "execution_count": 99,
   "metadata": {},
   "outputs": [],
   "source": [
    "job_errors_15min = (\n",
    "    pd.merge(\n",
    "        left = jobs_15min,    \n",
    "        right = errors_15min,\n",
    "        left_on = 'end_group',\n",
    "        right_on = 'error_timestamp',\n",
    "        how = 'left')\n",
    "    .drop(columns = 'error_timestamp')\n",
    "    )"
   ]
  },
  {
   "cell_type": "code",
   "execution_count": 103,
   "metadata": {},
   "outputs": [
    {
     "data": {
      "text/plain": [
       "ErrorCount\n",
       "0.0     31853\n",
       "1.0      1424\n",
       "2.0       348\n",
       "3.0       176\n",
       "4.0        62\n",
       "5.0        32\n",
       "6.0        11\n",
       "7.0         7\n",
       "8.0         4\n",
       "9.0         4\n",
       "11.0        2\n",
       "12.0        1\n",
       "13.0        1\n",
       "10.0        1\n",
       "Name: count, dtype: int64"
      ]
     },
     "execution_count": 103,
     "metadata": {},
     "output_type": "execute_result"
    }
   ],
   "source": [
    "job_errors_15min['ErrorCount'].value_counts()"
   ]
  }
 ],
 "metadata": {
  "kernelspec": {
   "display_name": "base",
   "language": "python",
   "name": "python3"
  },
  "language_info": {
   "codemirror_mode": {
    "name": "ipython",
    "version": 3
   },
   "file_extension": ".py",
   "mimetype": "text/x-python",
   "name": "python",
   "nbconvert_exporter": "python",
   "pygments_lexer": "ipython3",
   "version": "3.12.4"
  }
 },
 "nbformat": 4,
 "nbformat_minor": 2
}
